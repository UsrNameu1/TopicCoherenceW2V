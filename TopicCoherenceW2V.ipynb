{
 "cells": [
  {
   "cell_type": "code",
   "execution_count": 1,
   "metadata": {
    "collapsed": false
   },
   "outputs": [],
   "source": [
    "import numpy as np\n",
    "import pandas as pd\n",
    "\n",
    "import subprocess as sp\n",
    "import MeCab\n",
    "\n",
    "from sklearn.feature_extraction.text import TfidfVectorizer\n",
    "from sklearn.decomposition import NMF\n",
    "\n",
    "from gensim.corpora.dictionary import Dictionary\n",
    "from gensim.models.coherencemodel import CoherenceModel\n",
    "from gensim.models import Word2Vec, KeyedVectors\n",
    "from gensim.matutils import Sparse2Corpus\n",
    "\n",
    "from xml.etree import ElementTree\n",
    "\n",
    "%matplotlib inline"
   ]
  },
  {
   "cell_type": "code",
   "execution_count": 2,
   "metadata": {
    "collapsed": false
   },
   "outputs": [],
   "source": [
    "tree = ElementTree.parse('./inputs/lifelog_advice_corpus/lifelog_advice_corpus.xml')\n",
    "root = tree.getroot()\n",
    "# 属性の辞書のリストを作る\n",
    "data = [{\n",
    "    'lifelog_id': lifelog.get('id') , \n",
    "    'line_id': line.get('id'), \n",
    "    'text':text\n",
    "} for lifelog in root.findall('.//lifelog') \n",
    "    for line in lifelog.findall('l_s') \n",
    "    for text in line.itertext()\n",
    "]"
   ]
  },
  {
   "cell_type": "code",
   "execution_count": 3,
   "metadata": {
    "collapsed": false
   },
   "outputs": [],
   "source": [
    "lifelog_df = pd.DataFrame(data)\n",
    "lifelog_text_df = lifelog_df.groupby(['lifelog_id', 'line_id'])[['text']].apply(\n",
    "    lambda rec: np.sum(rec.text + ' ')\n",
    ").reset_index(name='text')"
   ]
  },
  {
   "cell_type": "code",
   "execution_count": 4,
   "metadata": {
    "collapsed": false
   },
   "outputs": [],
   "source": [
    "neologd_path = sp.check_output(\n",
    "    'echo `mecab-config --dicdir`\"/mecab-ipadic-neologd\"', shell=True\n",
    ")[:-1].decode('utf-8')\n",
    "neologd_tagger = MeCab.Tagger(\"-d {} -Ochasen\".format(neologd_path))"
   ]
  },
  {
   "cell_type": "code",
   "execution_count": 5,
   "metadata": {
    "collapsed": true
   },
   "outputs": [],
   "source": [
    "def parse_text(text: str):\n",
    "    parsed_text = neologd_tagger.parse(text).split('\\n')\n",
    "    parsed_results = pd.Series(parsed_text).str.split('\\t').tolist()\n",
    "    df = pd.DataFrame.from_records(parsed_results)\n",
    "    columns = ['surface', 'spell', 'orig', 'type', 'katsuyoukei', 'katsuyoukata']\n",
    "    df.columns = columns\n",
    "    return df.query(\"surface != 'EOS'\").query(\"surface != ''\")"
   ]
  },
  {
   "cell_type": "code",
   "execution_count": 6,
   "metadata": {
    "collapsed": false
   },
   "outputs": [],
   "source": [
    "def extract_noun(text: str):\n",
    "    parsed = parse_text(text)\n",
    "    noun_df = parsed[\n",
    "        parsed.type.str.startswith('名詞-一般') | \n",
    "        parsed.type.str.startswith('名詞-サ変接続') \n",
    "    ]\n",
    "    return ' '.join(noun_df.orig.tolist())"
   ]
  },
  {
   "cell_type": "code",
   "execution_count": 7,
   "metadata": {
    "collapsed": false
   },
   "outputs": [],
   "source": [
    "lifelog_text_df['bow'] = np.vectorize(extract_noun)(lifelog_text_df.text)"
   ]
  },
  {
   "cell_type": "code",
   "execution_count": 8,
   "metadata": {
    "collapsed": false
   },
   "outputs": [],
   "source": [
    "lifelog_bow_df = lifelog_text_df.groupby('lifelog_id')[['bow']].apply(\n",
    "    lambda rec: np.sum(rec.bow + ' ')\n",
    ").reset_index(name='bow')"
   ]
  },
  {
   "cell_type": "code",
   "execution_count": 9,
   "metadata": {
    "collapsed": false
   },
   "outputs": [],
   "source": [
    "w2v_vectors = Word2Vec.load('./inputs/word2vec.gensim.model')"
   ]
  },
  {
   "cell_type": "code",
   "execution_count": 10,
   "metadata": {
    "collapsed": true
   },
   "outputs": [],
   "source": [
    "def coherence_for_topic_n(topic_n: int, nmf: NMF, X: pd.Series, wv: KeyedVectors = w2v_vectors.wv) -> pd.DataFrame:\n",
    "    tfidf_vectorizer = TfidfVectorizer(token_pattern=r'\\S+', norm='l1')\n",
    "    tfidf = tfidf_vectorizer.fit_transform(X)\n",
    "    word_df = pd.DataFrame({'word': tfidf_vectorizer.get_feature_names()})\n",
    "    nmf.set_params(n_components = topic_n)\n",
    "    _ = nmf.fit_transform(tfidf)\n",
    "    H = nmf.components_\n",
    "    topY = 5\n",
    "    topY_indices = H.argsort(axis=1)[:, :-(topY + 1):-1]\n",
    "    topic_rank_index_df = pd.DataFrame(topY_indices).stack().reset_index()\\\n",
    "        .rename(columns={'level_0': 'topic', 'level_1': 'rank', 0: 'word_idx'})\n",
    "    topic_rank_word_df = pd.merge(\n",
    "        topic_rank_index_df,\n",
    "        word_df,\n",
    "        left_on='word_idx', right_index=True\n",
    "    ).drop('word_idx', axis=1).sort_values(['topic', 'rank'])\n",
    "    topics = topic_rank_word_df.groupby('topic')['word'].apply(lambda words: words.tolist()).tolist()\n",
    "    corpus = Sparse2Corpus(tfidf)\n",
    "    corpus_dict = Dictionary.from_corpus(corpus, word_df.to_dict()['word'])\n",
    "    coherence_model = CoherenceModel(\n",
    "        topics = topics,\n",
    "        corpus = corpus,\n",
    "        dictionary = corpus_dict,\n",
    "        keyed_vectors = wv,\n",
    "        coherence='c_w2v',\n",
    "        topn=topY\n",
    "    )\n",
    "    result = {'n_components': topic_n, 'coherence': coherence_model.get_coherence()}\n",
    "    return result"
   ]
  },
  {
   "cell_type": "code",
   "execution_count": 11,
   "metadata": {
    "collapsed": false
   },
   "outputs": [],
   "source": [
    "records = []\n",
    "for topic_n in range(5, 16):\n",
    "    nmf = NMF(alpha=0.01, init='random', l1_ratio=0.0, random_state=0)\n",
    "    records.append(coherence_for_topic_n(topic_n, nmf, lifelog_bow_df.bow))"
   ]
  },
  {
   "cell_type": "code",
   "execution_count": 12,
   "metadata": {
    "collapsed": false
   },
   "outputs": [
    {
     "data": {
      "text/plain": [
       "<matplotlib.axes._subplots.AxesSubplot at 0x1451a22b0>"
      ]
     },
     "execution_count": 12,
     "metadata": {},
     "output_type": "execute_result"
    },
    {
     "data": {
      "image/png": "[encoded data removed]",
      "text/plain": [
       "<matplotlib.figure.Figure at 0x111271588>"
      ]
     },
     "metadata": {},
     "output_type": "display_data"
    }
   ],
   "source": [
    "pd.DataFrame(records).set_index('n_components')['coherence'].plot()"
   ]
  },
  {
   "cell_type": "code",
   "execution_count": 13,
   "metadata": {
    "collapsed": false
   },
   "outputs": [],
   "source": [
    "def extract_topic_rank_word_df(topic_n: int, X: pd.Series):\n",
    "    nmf = NMF(alpha=0.01, init='random', l1_ratio=0.0, random_state=0)\n",
    "    tfidf_vectorizer = TfidfVectorizer(token_pattern=r'\\S+', norm='l1')\n",
    "    tfidf = tfidf_vectorizer.fit_transform(X)\n",
    "    word_df = pd.DataFrame({'word': tfidf_vectorizer.get_feature_names()})\n",
    "    nmf.set_params(n_components = topic_n)\n",
    "    _ = nmf.fit_transform(tfidf)\n",
    "    H = nmf.components_\n",
    "    topY = 5\n",
    "    topY_indices = H.argsort(axis=1)[:, :-(topY + 1):-1]\n",
    "    topic_rank_index_df = pd.DataFrame(topY_indices).stack().reset_index()\\\n",
    "        .rename(columns={'level_0': 'topic', 'level_1': 'rank', 0: 'word_idx'})\n",
    "    return pd.merge(\n",
    "        topic_rank_index_df,\n",
    "        word_df,\n",
    "        left_on='word_idx', right_index=True\n",
    "    ).drop('word_idx', axis=1).sort_values(['topic', 'rank'])\n"
   ]
  },
  {
   "cell_type": "code",
   "execution_count": 14,
   "metadata": {
    "collapsed": false
   },
   "outputs": [
    {
     "data": {
      "text/plain": [
       "topic\n",
       "0      [ご飯, 善, 体重, カロリー, コーヒー]\n",
       "1    [風邪, 体, マスク, インフルエンザ, 電車]\n",
       "2      [おにぎり, 熱, シャワー, 体調, 食欲]\n",
       "3      [風呂, 帰り, シャワー, コンビニ, 体]\n",
       "4        [サラダ, 食事, 大根, 白菜, 朝食]\n",
       "5        [ストレッチ, 腰, 首, 肩, ポーズ]\n",
       "Name: word, dtype: object"
      ]
     },
     "execution_count": 14,
     "metadata": {},
     "output_type": "execute_result"
    }
   ],
   "source": [
    "extract_topic_rank_word_df(6, lifelog_bow_df.bow).groupby('topic')['word'].apply(lambda words: words.tolist())"
   ]
  },
  {
   "cell_type": "code",
   "execution_count": 15,
   "metadata": {
    "collapsed": false
   },
   "outputs": [
    {
     "data": {
      "text/plain": [
       "topic\n",
       "0       [ご飯, 善, 体重, カロリー, コーヒー]\n",
       "1         [ポテト, 口, サイズ, ご飯, 幼少]\n",
       "2       [おにぎり, 熱, シャワー, 体調, 食欲]\n",
       "3    [子ども, 自転車, 保育園, お好み焼き, 運動]\n",
       "4       [風呂, 帰り, シャワー, コンビニ, 体]\n",
       "5         [ストレッチ, 腰, 首, 肩, ポーズ]\n",
       "6           [風邪, 体, マスク, 電車, 別]\n",
       "7         [サラダ, 食事, 大根, 白菜, 朝食]\n",
       "Name: word, dtype: object"
      ]
     },
     "execution_count": 15,
     "metadata": {},
     "output_type": "execute_result"
    }
   ],
   "source": [
    "extract_topic_rank_word_df(8, lifelog_bow_df.bow).groupby('topic')['word'].apply(lambda words: words.tolist())"
   ]
  },
  {
   "cell_type": "code",
   "execution_count": null,
   "metadata": {
    "collapsed": true
   },
   "outputs": [],
   "source": []
  }
 ],
 "metadata": {
  "kernelspec": {
   "display_name": "Python 3",
   "language": "python",
   "name": "python3"
  },
  "language_info": {
   "codemirror_mode": {
    "name": "ipython",
    "version": 3
   },
   "file_extension": ".py",
   "mimetype": "text/x-python",
   "name": "python",
   "nbconvert_exporter": "python",
   "pygments_lexer": "ipython3",
   "version": "3.6.0"
  }
 },
 "nbformat": 4,
 "nbformat_minor": 2
}
